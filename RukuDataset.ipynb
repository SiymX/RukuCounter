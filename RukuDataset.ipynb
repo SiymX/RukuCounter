{
  "nbformat": 4,
  "nbformat_minor": 0,
  "metadata": {
    "colab": {
      "provenance": []
    },
    "kernelspec": {
      "name": "python3",
      "display_name": "Python 3"
    },
    "language_info": {
      "name": "python"
    }
  },
  "cells": [
    {
      "cell_type": "code",
      "execution_count": null,
      "metadata": {
        "colab": {
          "base_uri": "https://localhost:8080/"
        },
        "id": "WXlPBW1e_jZI",
        "outputId": "10ab4990-33e4-477f-c3dc-360bf1664c40"
      },
      "outputs": [
        {
          "output_type": "stream",
          "name": "stdout",
          "text": [
            "  adding: runs/ (stored 0%)\n",
            "  adding: runs/detect/ (stored 0%)\n",
            "  adding: runs/detect/train8/ (stored 0%)\n",
            "  adding: runs/detect/train8/labels_correlogram.jpg (deflated 70%)\n",
            "  adding: runs/detect/train8/labels.jpg (deflated 54%)\n",
            "  adding: runs/detect/train8/results.png (deflated 7%)\n",
            "  adding: runs/detect/train8/train_batch20.jpg (deflated 15%)\n",
            "  adding: runs/detect/train8/PR_curve.png (deflated 30%)\n",
            "  adding: runs/detect/train8/val_batch0_labels.jpg (deflated 16%)\n",
            "  adding: runs/detect/train8/R_curve.png (deflated 25%)\n",
            "  adding: runs/detect/train8/train_batch22.jpg (deflated 17%)\n",
            "  adding: runs/detect/train8/train_batch2.jpg (deflated 8%)\n",
            "  adding: runs/detect/train8/confusion_matrix_normalized.png (deflated 41%)\n",
            "  adding: runs/detect/train8/train_batch0.jpg (deflated 6%)\n",
            "  adding: runs/detect/train8/train_batch1.jpg (deflated 7%)\n",
            "  adding: runs/detect/train8/P_curve.png (deflated 24%)\n",
            "  adding: runs/detect/train8/args.yaml (deflated 52%)\n",
            "  adding: runs/detect/train8/confusion_matrix.png (deflated 43%)\n",
            "  adding: runs/detect/train8/results.csv (deflated 66%)\n",
            "  adding: runs/detect/train8/val_batch0_pred.jpg (deflated 15%)\n",
            "  adding: runs/detect/train8/weights/ (stored 0%)\n",
            "  adding: runs/detect/train8/weights/last.pt (deflated 9%)\n",
            "  adding: runs/detect/train8/weights/best_saved_model/ (stored 0%)\n",
            "  adding: runs/detect/train8/weights/best_saved_model/variables/ (stored 0%)\n",
            "  adding: runs/detect/train8/weights/best_saved_model/variables/variables.index (deflated 33%)\n",
            "  adding: runs/detect/train8/weights/best_saved_model/variables/variables.data-00000-of-00001 (deflated 86%)\n",
            "  adding: runs/detect/train8/weights/best_saved_model/best_float16.tflite (deflated 9%)\n",
            "  adding: runs/detect/train8/weights/best_saved_model/saved_model.pb (deflated 11%)\n",
            "  adding: runs/detect/train8/weights/best_saved_model/assets/ (stored 0%)\n",
            "  adding: runs/detect/train8/weights/best_saved_model/fingerprint.pb (stored 0%)\n",
            "  adding: runs/detect/train8/weights/best_saved_model/best_float32.tflite (deflated 14%)\n",
            "  adding: runs/detect/train8/weights/best_saved_model/metadata.yaml (deflated 36%)\n",
            "  adding: runs/detect/train8/weights/best.onnx (deflated 14%)\n",
            "  adding: runs/detect/train8/weights/best.pb (deflated 10%)\n",
            "  adding: runs/detect/train8/weights/best.pt (deflated 9%)\n",
            "  adding: runs/detect/train8/weights/best_web_model/ (stored 0%)\n",
            "  adding: runs/detect/train8/weights/best_web_model/group1-shard2of3.bin (deflated 7%)\n",
            "  adding: runs/detect/train8/weights/best_web_model/group1-shard1of3.bin (deflated 12%)\n",
            "  adding: runs/detect/train8/weights/best_web_model/model.json (deflated 95%)\n",
            "  adding: runs/detect/train8/weights/best_web_model/group1-shard3of3.bin (deflated 8%)\n",
            "  adding: runs/detect/train8/weights/best_web_model/metadata.yaml (deflated 36%)\n",
            "  adding: runs/detect/train8/F1_curve.png (deflated 29%)\n",
            "  adding: runs/detect/train8/train_batch21.jpg (deflated 15%)\n",
            "  adding: runs/detect/train4/ (stored 0%)\n",
            "  adding: runs/detect/train4/args.yaml (deflated 52%)\n",
            "  adding: runs/detect/train4/weights/ (stored 0%)\n",
            "  adding: runs/detect/train54/ (stored 0%)\n",
            "  adding: runs/detect/train54/ruku194.jpg (deflated 1%)\n",
            "  adding: runs/detect/train5/ (stored 0%)\n",
            "  adding: runs/detect/train5/labels_correlogram.jpg (deflated 70%)\n",
            "  adding: runs/detect/train5/labels.jpg (deflated 54%)\n",
            "  adding: runs/detect/train5/results.png (deflated 7%)\n",
            "  adding: runs/detect/train5/train_batch20.jpg (deflated 15%)\n",
            "  adding: runs/detect/train5/PR_curve.png (deflated 30%)\n",
            "  adding: runs/detect/train5/val_batch0_labels.jpg (deflated 16%)\n",
            "  adding: runs/detect/train5/R_curve.png (deflated 25%)\n",
            "  adding: runs/detect/train5/train_batch22.jpg (deflated 17%)\n",
            "  adding: runs/detect/train5/train_batch2.jpg (deflated 8%)\n",
            "  adding: runs/detect/train5/confusion_matrix_normalized.png (deflated 41%)\n",
            "  adding: runs/detect/train5/train_batch0.jpg (deflated 6%)\n",
            "  adding: runs/detect/train5/train_batch1.jpg (deflated 7%)\n",
            "  adding: runs/detect/train5/P_curve.png (deflated 24%)\n",
            "  adding: runs/detect/train5/args.yaml (deflated 53%)\n",
            "  adding: runs/detect/train5/confusion_matrix.png (deflated 43%)\n",
            "  adding: runs/detect/train5/results.csv (deflated 66%)\n",
            "  adding: runs/detect/train5/val_batch0_pred.jpg (deflated 15%)\n",
            "  adding: runs/detect/train5/weights/ (stored 0%)\n",
            "  adding: runs/detect/train5/weights/best.onnx (deflated 13%)\n",
            "  adding: runs/detect/train5/weights/.ipynb_checkpoints/ (stored 0%)\n",
            "  adding: runs/detect/train5/F1_curve.png (deflated 29%)\n",
            "  adding: runs/detect/train5/train_batch21.jpg (deflated 15%)\n",
            "  adding: runs/detect/train6/ (stored 0%)\n",
            "  adding: runs/detect/train6/args.yaml (deflated 52%)\n",
            "  adding: runs/detect/train6/weights/ (stored 0%)\n",
            "  adding: runs/detect/train7/ (stored 0%)\n",
            "  adding: runs/detect/train7/args.yaml (deflated 52%)\n",
            "  adding: runs/detect/train7/weights/ (stored 0%)\n",
            "  adding: runs/detect/train53/ (stored 0%)\n",
            "  adding: runs/detect/train53/ruku194.jpg (deflated 1%)\n",
            "  adding: runs/detect/train52/ (stored 0%)\n",
            "  adding: runs/detect/train52/ruku194.jpg (deflated 1%)\n",
            "  adding: runs/detect/train3/ (stored 0%)\n",
            "  adding: runs/detect/train3/args.yaml (deflated 52%)\n",
            "  adding: runs/detect/train3/weights/ (stored 0%)\n",
            "  adding: runs/detect/predict/ (stored 0%)\n",
            "  adding: runs/detect/predict/ruku194.jpg (deflated 1%)\n",
            "  adding: runs/detect/train/ (stored 0%)\n",
            "  adding: runs/detect/train/args.yaml (deflated 53%)\n",
            "  adding: runs/detect/train/weights/ (stored 0%)\n",
            "  adding: runs/detect/train2/ (stored 0%)\n",
            "  adding: runs/detect/train2/args.yaml (deflated 52%)\n",
            "  adding: runs/detect/train2/weights/ (stored 0%)\n"
          ]
        }
      ],
      "source": [
        "!zip -r runs.zip runs/"
      ]
    }
  ]
}